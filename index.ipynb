{
 "cells": [
  {
   "cell_type": "markdown",
   "metadata": {},
   "source": [
    "# Tuning Neural Networks with Regularization - Lab \n",
    "\n",
    "## Introduction\n",
    "\n",
    "In this lab, you'll use a train-test partition as well as a validation set to get better insights about how to tune neural networks using regularization techniques. You'll start by repeating the process from the last section: importing the data and performing preprocessing including one-hot encoding. From there, you'll define and compile the model like before. \n",
    "\n",
    "## Objectives\n",
    "\n",
    "You will be able to:\n",
    "\n",
    "- Apply early stopping criteria with a neural network \n",
    "- Apply L1, L2, and dropout regularization on a neural network  \n",
    "- Examine the effects of training with more data on a neural network  \n",
    "\n",
    "\n",
    "## Load the Data\n",
    "\n",
    "Run the following cell to import some of the libraries and classes you'll need in this lab. "
   ]
  },
  {
   "cell_type": "code",
   "execution_count": 1,
   "metadata": {
    "ExecuteTime": {
     "end_time": "2020-09-09T21:22:50.801786Z",
     "start_time": "2020-09-09T21:22:42.475800Z"
    }
   },
   "outputs": [
    {
     "name": "stderr",
     "output_type": "stream",
     "text": [
      "Using TensorFlow backend.\n"
     ]
    }
   ],
   "source": [
    "import pandas as pd\n",
    "import numpy as np\n",
    "import random\n",
    "import matplotlib.pyplot as plt\n",
    "%matplotlib inline\n",
    "from sklearn.model_selection import train_test_split\n",
    "from keras.utils.np_utils import to_categorical\n",
    "from sklearn.preprocessing import LabelBinarizer\n",
    "from keras.preprocessing.text import Tokenizer\n",
    "\n",
    "import warnings\n",
    "warnings.filterwarnings('ignore')"
   ]
  },
  {
   "cell_type": "markdown",
   "metadata": {},
   "source": [
    "The data is stored in the file `'Bank_complaints.csv'`. Load and preview the dataset."
   ]
  },
  {
   "cell_type": "code",
   "execution_count": 2,
   "metadata": {
    "ExecuteTime": {
     "end_time": "2020-09-09T21:23:34.225231Z",
     "start_time": "2020-09-09T21:23:33.138489Z"
    }
   },
   "outputs": [
    {
     "data": {
      "text/html": [
       "<div>\n",
       "<style scoped>\n",
       "    .dataframe tbody tr th:only-of-type {\n",
       "        vertical-align: middle;\n",
       "    }\n",
       "\n",
       "    .dataframe tbody tr th {\n",
       "        vertical-align: top;\n",
       "    }\n",
       "\n",
       "    .dataframe thead th {\n",
       "        text-align: right;\n",
       "    }\n",
       "</style>\n",
       "<table border=\"1\" class=\"dataframe\">\n",
       "  <thead>\n",
       "    <tr style=\"text-align: right;\">\n",
       "      <th></th>\n",
       "      <th>Product</th>\n",
       "      <th>Consumer complaint narrative</th>\n",
       "    </tr>\n",
       "  </thead>\n",
       "  <tbody>\n",
       "    <tr>\n",
       "      <td>0</td>\n",
       "      <td>Student loan</td>\n",
       "      <td>In XX/XX/XXXX I filled out the Fedlaon applica...</td>\n",
       "    </tr>\n",
       "    <tr>\n",
       "      <td>1</td>\n",
       "      <td>Student loan</td>\n",
       "      <td>I am being contacted by a debt collector for p...</td>\n",
       "    </tr>\n",
       "    <tr>\n",
       "      <td>2</td>\n",
       "      <td>Student loan</td>\n",
       "      <td>I cosigned XXXX student loans at SallieMae for...</td>\n",
       "    </tr>\n",
       "    <tr>\n",
       "      <td>3</td>\n",
       "      <td>Student loan</td>\n",
       "      <td>Navient has sytematically and illegally failed...</td>\n",
       "    </tr>\n",
       "    <tr>\n",
       "      <td>4</td>\n",
       "      <td>Student loan</td>\n",
       "      <td>My wife became eligible for XXXX Loan Forgiven...</td>\n",
       "    </tr>\n",
       "  </tbody>\n",
       "</table>\n",
       "</div>"
      ],
      "text/plain": [
       "        Product                       Consumer complaint narrative\n",
       "0  Student loan  In XX/XX/XXXX I filled out the Fedlaon applica...\n",
       "1  Student loan  I am being contacted by a debt collector for p...\n",
       "2  Student loan  I cosigned XXXX student loans at SallieMae for...\n",
       "3  Student loan  Navient has sytematically and illegally failed...\n",
       "4  Student loan  My wife became eligible for XXXX Loan Forgiven..."
      ]
     },
     "execution_count": 2,
     "metadata": {},
     "output_type": "execute_result"
    }
   ],
   "source": [
    "# Load and preview the dataset\n",
    "df = pd.read_csv('Bank_complaints.csv')\n",
    "df.head()"
   ]
  },
  {
   "cell_type": "markdown",
   "metadata": {},
   "source": [
    "## Preprocessing Overview\n",
    "\n",
    "Before you begin to practice some of your new tools such as regularization and optimization, let's practice munging some data as you did in the previous section with bank complaints. Recall some techniques:\n",
    "\n",
    "* Sampling in order to reduce training time (investigate model accuracy vs data size later on)\n",
    "* Train - test split\n",
    "* One-hot encoding your complaint text\n",
    "* Transforming your category labels \n",
    "\n",
    "## Preprocessing: Generate a Random Sample\n",
    "\n",
    "Since you have quite a bit of data and training neural networks takes a substantial amount of time and resources, downsample in order to test your initial pipeline. Going forward, these can be interesting areas of investigation: how does your model's performance change as you increase (or decrease) the size of your dataset?  \n",
    "\n",
    "- Generate a random sample of 10,000 observations using seed 123 for consistency of results. \n",
    "- Split this sample into `X` and `y` "
   ]
  },
  {
   "cell_type": "code",
   "execution_count": 3,
   "metadata": {
    "ExecuteTime": {
     "end_time": "2020-09-09T21:26:17.001776Z",
     "start_time": "2020-09-09T21:26:16.942737Z"
    }
   },
   "outputs": [],
   "source": [
    "# Downsample the data\n",
    "df_sample = df.sample(10000, random_state=123)\n",
    "\n",
    "# Split the data into X and y\n",
    "y = df_sample['Product']\n",
    "X = df_sample['Consumer complaint narrative']"
   ]
  },
  {
   "cell_type": "markdown",
   "metadata": {},
   "source": [
    "## Train-test split\n",
    "\n",
    "- Split the data into training and test sets \n",
    "- Assign 1500 obervations to the test set and use 42 as the seed "
   ]
  },
  {
   "cell_type": "code",
   "execution_count": 4,
   "metadata": {
    "ExecuteTime": {
     "end_time": "2020-09-09T21:27:18.309883Z",
     "start_time": "2020-09-09T21:27:18.297876Z"
    }
   },
   "outputs": [],
   "source": [
    "# Split data into training and test sets\n",
    "X_train, X_test, y_train, y_test = train_test_split(X, y, test_size=1500, \n",
    "                                                    random_state=42)"
   ]
  },
  {
   "cell_type": "markdown",
   "metadata": {},
   "source": [
    "## Validation set \n",
    "\n",
    "As mentioned in the previous lesson, it is good practice to set aside a validation set, which is then used during hyperparameter tuning. Afterwards, when you have decided upon a final model, the test set can then be used to determine an unbiased perforance of the model. \n",
    "\n",
    "Run the cell below to further divide the training data into training and validation sets. "
   ]
  },
  {
   "cell_type": "code",
   "execution_count": 5,
   "metadata": {
    "ExecuteTime": {
     "end_time": "2020-09-09T21:28:03.025626Z",
     "start_time": "2020-09-09T21:28:03.017623Z"
    }
   },
   "outputs": [],
   "source": [
    "# Split the data into training and validation sets\n",
    "X_train_final, X_val, y_train_final, y_val = train_test_split(X_train, y_train, test_size=1000, random_state=42)"
   ]
  },
  {
   "cell_type": "markdown",
   "metadata": {},
   "source": [
    "## Preprocessing: One-hot Encoding the Complaints\n",
    "\n",
    "As before, you need to do some preprocessing before building a neural network model. \n",
    "\n",
    "- Keep the 2,000 most common words and use one-hot encoding to reformat the complaints into a matrix of vectors \n",
    "- Transform the training, validate, and test sets "
   ]
  },
  {
   "cell_type": "code",
   "execution_count": 6,
   "metadata": {
    "ExecuteTime": {
     "end_time": "2020-09-09T21:30:33.052324Z",
     "start_time": "2020-09-09T21:30:30.528389Z"
    }
   },
   "outputs": [],
   "source": [
    "# Use one-hot encoding to reformat the complaints into a matrix of vectors \n",
    "# Only keep the 2000 most common words \n",
    "\n",
    "tokenizer = Tokenizer(num_words=2000)\n",
    "tokenizer.fit_on_texts(X_train_final)\n",
    "\n",
    "X_train_tokens = tokenizer.texts_to_matrix(X_train_final, mode='binary')\n",
    "X_val_tokens = tokenizer.texts_to_matrix(X_val, mode='binary')\n",
    "X_test_tokens = tokenizer.texts_to_matrix(X_test, mode='binary')"
   ]
  },
  {
   "cell_type": "markdown",
   "metadata": {},
   "source": [
    "## Preprocessing: Encoding the Products\n",
    "\n",
    "Similarly, now transform the descriptive product labels to integers labels. After transforming them to integer labels, retransform them into a matrix of binary flags, one for each of the various product labels.  \n",
    "  \n",
    "> **Note**: This is similar to your previous work with dummy variables. Each of the various product categories will be its own column, and each observation will be a row. In turn, each of these observation rows will have a 1 in the column associated with it's label, and all other entries for the row will be zero. \n",
    "\n",
    "Transform the training, validate, and test sets. "
   ]
  },
  {
   "cell_type": "code",
   "execution_count": 7,
   "metadata": {
    "ExecuteTime": {
     "end_time": "2020-09-09T22:08:32.754755Z",
     "start_time": "2020-09-09T22:08:32.613154Z"
    }
   },
   "outputs": [],
   "source": [
    "# Transform the product labels to numerical values\n",
    "lb = LabelBinarizer()\n",
    "lb.fit(y_train_final)\n",
    "\n",
    "\n",
    "y_train_lb = to_categorical(lb.transform(y_train_final))[:, :, 1]\n",
    "y_val_lb = to_categorical(lb.transform(y_val))[:, :, 1]\n",
    "y_test_lb = to_categorical(lb.transform(y_test))[:, :, 1]"
   ]
  },
  {
   "cell_type": "markdown",
   "metadata": {},
   "source": [
    "## A Baseline Model \n",
    "\n",
    "Rebuild a fully connected (Dense) layer network:  \n",
    "- Use 2 hidden layers with 50 units in the first and 25 in the second layer, both with `'relu'` activation functions (since you are dealing with a multiclass problem, classifying the complaints into 7 classes) \n",
    "- Use a `'softmax'` activation function for the output layer  "
   ]
  },
  {
   "cell_type": "code",
   "execution_count": 8,
   "metadata": {
    "ExecuteTime": {
     "end_time": "2020-09-09T22:11:18.822310Z",
     "start_time": "2020-09-09T22:11:18.780306Z"
    }
   },
   "outputs": [],
   "source": [
    "# Build a baseline neural network model using Keras\n",
    "random.seed(123)\n",
    "from keras import models\n",
    "from keras import layers\n",
    "baseline_model = models.Sequential()\n",
    "baseline_model.add(layers.Dense(50, activation='relu', input_shape=(2000,)))\n",
    "baseline_model.add(layers.Dense(25, activation='relu'))\n",
    "baseline_model.add(layers.Dense(7, activation='softmax'))\n"
   ]
  },
  {
   "cell_type": "markdown",
   "metadata": {},
   "source": [
    "### Compile the Model\n",
    "\n",
    "Compile this model with: \n",
    "\n",
    "- a stochastic gradient descent optimizer \n",
    "- `'categorical_crossentropy'` as the loss function \n",
    "- a focus on `'accuracy'` "
   ]
  },
  {
   "cell_type": "code",
   "execution_count": 9,
   "metadata": {
    "ExecuteTime": {
     "end_time": "2020-09-09T22:13:37.595780Z",
     "start_time": "2020-09-09T22:13:37.563799Z"
    }
   },
   "outputs": [],
   "source": [
    "# Compile the model\n",
    "baseline_model.compile(loss='categorical_crossentropy', optimizer='sgd',\n",
    "                      metrics=['accuracy'])"
   ]
  },
  {
   "cell_type": "markdown",
   "metadata": {},
   "source": [
    "### Train the Model\n",
    "\n",
    "- Train the model for 150 epochs in mini-batches of 256 samples \n",
    "- Include the `validation_data` argument to ensure you keep track of the validation loss  "
   ]
  },
  {
   "cell_type": "code",
   "execution_count": 10,
   "metadata": {
    "ExecuteTime": {
     "end_time": "2020-09-09T22:20:05.079315Z",
     "start_time": "2020-09-09T22:19:30.467519Z"
    }
   },
   "outputs": [
    {
     "name": "stdout",
     "output_type": "stream",
     "text": [
      "Train on 7500 samples, validate on 1000 samples\n",
      "Epoch 1/150\n",
      "7500/7500 [==============================] - 0s 51us/step - loss: 1.9520 - acc: 0.1369 - val_loss: 1.9364 - val_acc: 0.1670\n",
      "Epoch 2/150\n",
      "7500/7500 [==============================] - 0s 34us/step - loss: 1.9316 - acc: 0.1709 - val_loss: 1.9225 - val_acc: 0.1800\n",
      "Epoch 3/150\n",
      "7500/7500 [==============================] - 0s 30us/step - loss: 1.9155 - acc: 0.1923 - val_loss: 1.9084 - val_acc: 0.1800\n",
      "Epoch 4/150\n",
      "7500/7500 [==============================] - 0s 31us/step - loss: 1.8982 - acc: 0.2041 - val_loss: 1.8916 - val_acc: 0.1990\n",
      "Epoch 5/150\n",
      "7500/7500 [==============================] - 0s 29us/step - loss: 1.8775 - acc: 0.2281 - val_loss: 1.8708 - val_acc: 0.2280\n",
      "Epoch 6/150\n",
      "7500/7500 [==============================] - 0s 29us/step - loss: 1.8528 - acc: 0.2501 - val_loss: 1.8468 - val_acc: 0.2440\n",
      "Epoch 7/150\n",
      "7500/7500 [==============================] - 0s 32us/step - loss: 1.8246 - acc: 0.2707 - val_loss: 1.8193 - val_acc: 0.2660\n",
      "Epoch 8/150\n",
      "7500/7500 [==============================] - 0s 29us/step - loss: 1.7924 - acc: 0.2943 - val_loss: 1.7881 - val_acc: 0.2920\n",
      "Epoch 9/150\n",
      "7500/7500 [==============================] - 0s 29us/step - loss: 1.7564 - acc: 0.3145 - val_loss: 1.7532 - val_acc: 0.3020\n",
      "Epoch 10/150\n",
      "7500/7500 [==============================] - 0s 30us/step - loss: 1.7172 - acc: 0.3313 - val_loss: 1.7154 - val_acc: 0.3220\n",
      "Epoch 11/150\n",
      "7500/7500 [==============================] - 0s 30us/step - loss: 1.6759 - acc: 0.3513 - val_loss: 1.6744 - val_acc: 0.3510\n",
      "Epoch 12/150\n",
      "7500/7500 [==============================] - 0s 31us/step - loss: 1.6330 - acc: 0.3743 - val_loss: 1.6320 - val_acc: 0.3730\n",
      "Epoch 13/150\n",
      "7500/7500 [==============================] - 0s 30us/step - loss: 1.5895 - acc: 0.3987 - val_loss: 1.5888 - val_acc: 0.3960\n",
      "Epoch 14/150\n",
      "7500/7500 [==============================] - 0s 31us/step - loss: 1.5455 - acc: 0.4223 - val_loss: 1.5433 - val_acc: 0.4250\n",
      "Epoch 15/150\n",
      "7500/7500 [==============================] - 0s 33us/step - loss: 1.5003 - acc: 0.4487 - val_loss: 1.4982 - val_acc: 0.4710\n",
      "Epoch 16/150\n",
      "7500/7500 [==============================] - 0s 30us/step - loss: 1.4554 - acc: 0.4795 - val_loss: 1.4531 - val_acc: 0.4810\n",
      "Epoch 17/150\n",
      "7500/7500 [==============================] - 0s 32us/step - loss: 1.4095 - acc: 0.5039 - val_loss: 1.4077 - val_acc: 0.5100\n",
      "Epoch 18/150\n",
      "7500/7500 [==============================] - 0s 31us/step - loss: 1.3647 - acc: 0.5332 - val_loss: 1.3632 - val_acc: 0.5430\n",
      "Epoch 19/150\n",
      "7500/7500 [==============================] - 0s 30us/step - loss: 1.3205 - acc: 0.5659 - val_loss: 1.3197 - val_acc: 0.5580\n",
      "Epoch 20/150\n",
      "7500/7500 [==============================] - 0s 31us/step - loss: 1.2772 - acc: 0.5897 - val_loss: 1.2772 - val_acc: 0.5900\n",
      "Epoch 21/150\n",
      "7500/7500 [==============================] - 0s 31us/step - loss: 1.2353 - acc: 0.6136 - val_loss: 1.2382 - val_acc: 0.6070\n",
      "Epoch 22/150\n",
      "7500/7500 [==============================] - 0s 32us/step - loss: 1.1953 - acc: 0.6297 - val_loss: 1.1998 - val_acc: 0.6170\n",
      "Epoch 23/150\n",
      "7500/7500 [==============================] - 0s 31us/step - loss: 1.1564 - acc: 0.6481 - val_loss: 1.1600 - val_acc: 0.6400\n",
      "Epoch 24/150\n",
      "7500/7500 [==============================] - 0s 29us/step - loss: 1.1190 - acc: 0.6613 - val_loss: 1.1254 - val_acc: 0.6470\n",
      "Epoch 25/150\n",
      "7500/7500 [==============================] - 0s 30us/step - loss: 1.0838 - acc: 0.6713 - val_loss: 1.0930 - val_acc: 0.6580\n",
      "Epoch 26/150\n",
      "7500/7500 [==============================] - 0s 30us/step - loss: 1.0500 - acc: 0.6821 - val_loss: 1.0593 - val_acc: 0.6640\n",
      "Epoch 27/150\n",
      "7500/7500 [==============================] - 0s 31us/step - loss: 1.0190 - acc: 0.6900 - val_loss: 1.0312 - val_acc: 0.6640\n",
      "Epoch 28/150\n",
      "7500/7500 [==============================] - 0s 31us/step - loss: 0.9893 - acc: 0.7001 - val_loss: 1.0043 - val_acc: 0.6790\n",
      "Epoch 29/150\n",
      "7500/7500 [==============================] - 0s 30us/step - loss: 0.9615 - acc: 0.7063 - val_loss: 0.9789 - val_acc: 0.6820\n",
      "Epoch 30/150\n",
      "7500/7500 [==============================] - 0s 30us/step - loss: 0.9361 - acc: 0.7127 - val_loss: 0.9566 - val_acc: 0.6860\n",
      "Epoch 31/150\n",
      "7500/7500 [==============================] - 0s 31us/step - loss: 0.9118 - acc: 0.7185 - val_loss: 0.9327 - val_acc: 0.6940\n",
      "Epoch 32/150\n",
      "7500/7500 [==============================] - 0s 35us/step - loss: 0.8893 - acc: 0.7243 - val_loss: 0.9141 - val_acc: 0.6930\n",
      "Epoch 33/150\n",
      "7500/7500 [==============================] - 0s 30us/step - loss: 0.8680 - acc: 0.7267 - val_loss: 0.8967 - val_acc: 0.6960\n",
      "Epoch 34/150\n",
      "7500/7500 [==============================] - 0s 30us/step - loss: 0.8483 - acc: 0.7335 - val_loss: 0.8795 - val_acc: 0.6990\n",
      "Epoch 35/150\n",
      "7500/7500 [==============================] - 0s 30us/step - loss: 0.8296 - acc: 0.7387 - val_loss: 0.8699 - val_acc: 0.6950\n",
      "Epoch 36/150\n",
      "7500/7500 [==============================] - 0s 32us/step - loss: 0.8132 - acc: 0.7428 - val_loss: 0.8542 - val_acc: 0.7030\n",
      "Epoch 37/150\n",
      "7500/7500 [==============================] - 0s 32us/step - loss: 0.7966 - acc: 0.7440 - val_loss: 0.8369 - val_acc: 0.7070\n",
      "Epoch 38/150\n",
      "7500/7500 [==============================] - 0s 30us/step - loss: 0.7810 - acc: 0.7485 - val_loss: 0.8255 - val_acc: 0.7100\n",
      "Epoch 39/150\n",
      "7500/7500 [==============================] - 0s 30us/step - loss: 0.7672 - acc: 0.7529 - val_loss: 0.8120 - val_acc: 0.7180\n",
      "Epoch 40/150\n",
      "7500/7500 [==============================] - 0s 30us/step - loss: 0.7529 - acc: 0.7569 - val_loss: 0.8067 - val_acc: 0.7170\n",
      "Epoch 41/150\n",
      "7500/7500 [==============================] - 0s 30us/step - loss: 0.7407 - acc: 0.7595 - val_loss: 0.7938 - val_acc: 0.7190\n",
      "Epoch 42/150\n",
      "7500/7500 [==============================] - 0s 31us/step - loss: 0.7283 - acc: 0.7613 - val_loss: 0.7866 - val_acc: 0.7170\n",
      "Epoch 43/150\n",
      "7500/7500 [==============================] - 0s 31us/step - loss: 0.7168 - acc: 0.7689 - val_loss: 0.7753 - val_acc: 0.7240\n",
      "Epoch 44/150\n",
      "7500/7500 [==============================] - 0s 31us/step - loss: 0.7056 - acc: 0.7676 - val_loss: 0.7677 - val_acc: 0.7270\n",
      "Epoch 45/150\n",
      "7500/7500 [==============================] - 0s 31us/step - loss: 0.6959 - acc: 0.7705 - val_loss: 0.7600 - val_acc: 0.7250\n",
      "Epoch 46/150\n",
      "7500/7500 [==============================] - 0s 30us/step - loss: 0.6857 - acc: 0.7761 - val_loss: 0.7514 - val_acc: 0.7260\n",
      "Epoch 47/150\n",
      "7500/7500 [==============================] - 0s 33us/step - loss: 0.6766 - acc: 0.7777 - val_loss: 0.7480 - val_acc: 0.7200\n",
      "Epoch 48/150\n",
      "7500/7500 [==============================] - 0s 29us/step - loss: 0.6674 - acc: 0.7797 - val_loss: 0.7423 - val_acc: 0.7220\n",
      "Epoch 49/150\n",
      "7500/7500 [==============================] - 0s 31us/step - loss: 0.6589 - acc: 0.7832 - val_loss: 0.7358 - val_acc: 0.7230\n",
      "Epoch 50/150\n",
      "7500/7500 [==============================] - 0s 29us/step - loss: 0.6505 - acc: 0.7833 - val_loss: 0.7298 - val_acc: 0.7220\n",
      "Epoch 51/150\n",
      "7500/7500 [==============================] - 0s 30us/step - loss: 0.6423 - acc: 0.7880 - val_loss: 0.7289 - val_acc: 0.7280\n",
      "Epoch 52/150\n",
      "7500/7500 [==============================] - 0s 34us/step - loss: 0.6347 - acc: 0.7897 - val_loss: 0.7204 - val_acc: 0.7240\n",
      "Epoch 53/150\n",
      "7500/7500 [==============================] - 0s 30us/step - loss: 0.6274 - acc: 0.7919 - val_loss: 0.7227 - val_acc: 0.7230\n",
      "Epoch 54/150\n",
      "7500/7500 [==============================] - 0s 30us/step - loss: 0.6206 - acc: 0.7948 - val_loss: 0.7145 - val_acc: 0.7290\n",
      "Epoch 55/150\n",
      "7500/7500 [==============================] - 0s 31us/step - loss: 0.6133 - acc: 0.7957 - val_loss: 0.7108 - val_acc: 0.7270\n",
      "Epoch 56/150\n",
      "7500/7500 [==============================] - 0s 30us/step - loss: 0.6068 - acc: 0.8003 - val_loss: 0.7115 - val_acc: 0.7240\n",
      "Epoch 57/150\n",
      "7500/7500 [==============================] - 0s 33us/step - loss: 0.6003 - acc: 0.8019 - val_loss: 0.7036 - val_acc: 0.7310\n",
      "Epoch 58/150\n",
      "7500/7500 [==============================] - 0s 30us/step - loss: 0.5937 - acc: 0.8029 - val_loss: 0.7060 - val_acc: 0.7350\n",
      "Epoch 59/150\n",
      "7500/7500 [==============================] - 0s 30us/step - loss: 0.5878 - acc: 0.8036 - val_loss: 0.7043 - val_acc: 0.7260\n",
      "Epoch 60/150\n"
     ]
    },
    {
     "name": "stdout",
     "output_type": "stream",
     "text": [
      "7500/7500 [==============================] - 0s 30us/step - loss: 0.5815 - acc: 0.8065 - val_loss: 0.6934 - val_acc: 0.7370\n",
      "Epoch 61/150\n",
      "7500/7500 [==============================] - 0s 29us/step - loss: 0.5756 - acc: 0.8071 - val_loss: 0.6967 - val_acc: 0.7360\n",
      "Epoch 62/150\n",
      "7500/7500 [==============================] - 0s 32us/step - loss: 0.5699 - acc: 0.8107 - val_loss: 0.6893 - val_acc: 0.7310\n",
      "Epoch 63/150\n",
      "7500/7500 [==============================] - 0s 31us/step - loss: 0.5645 - acc: 0.8115 - val_loss: 0.6873 - val_acc: 0.7280\n",
      "Epoch 64/150\n",
      "7500/7500 [==============================] - 0s 31us/step - loss: 0.5590 - acc: 0.8143 - val_loss: 0.6870 - val_acc: 0.7310\n",
      "Epoch 65/150\n",
      "7500/7500 [==============================] - 0s 30us/step - loss: 0.5535 - acc: 0.8157 - val_loss: 0.6825 - val_acc: 0.7440\n",
      "Epoch 66/150\n",
      "7500/7500 [==============================] - 0s 30us/step - loss: 0.5483 - acc: 0.8171 - val_loss: 0.6814 - val_acc: 0.7320\n",
      "Epoch 67/150\n",
      "7500/7500 [==============================] - 0s 32us/step - loss: 0.5430 - acc: 0.8187 - val_loss: 0.6800 - val_acc: 0.7340\n",
      "Epoch 68/150\n",
      "7500/7500 [==============================] - 0s 29us/step - loss: 0.5379 - acc: 0.8197 - val_loss: 0.6823 - val_acc: 0.7360\n",
      "Epoch 69/150\n",
      "7500/7500 [==============================] - 0s 29us/step - loss: 0.5336 - acc: 0.8209 - val_loss: 0.6724 - val_acc: 0.7390\n",
      "Epoch 70/150\n",
      "7500/7500 [==============================] - 0s 29us/step - loss: 0.5283 - acc: 0.8229 - val_loss: 0.6739 - val_acc: 0.7330\n",
      "Epoch 71/150\n",
      "7500/7500 [==============================] - 0s 29us/step - loss: 0.5240 - acc: 0.8251 - val_loss: 0.6717 - val_acc: 0.7440\n",
      "Epoch 72/150\n",
      "7500/7500 [==============================] - 0s 32us/step - loss: 0.5191 - acc: 0.8248 - val_loss: 0.6732 - val_acc: 0.7330\n",
      "Epoch 73/150\n",
      "7500/7500 [==============================] - 0s 30us/step - loss: 0.5146 - acc: 0.8307 - val_loss: 0.6684 - val_acc: 0.7380\n",
      "Epoch 74/150\n",
      "7500/7500 [==============================] - 0s 29us/step - loss: 0.5098 - acc: 0.8284 - val_loss: 0.6672 - val_acc: 0.7450\n",
      "Epoch 75/150\n",
      "7500/7500 [==============================] - 0s 29us/step - loss: 0.5058 - acc: 0.8309 - val_loss: 0.6650 - val_acc: 0.7390\n",
      "Epoch 76/150\n",
      "7500/7500 [==============================] - 0s 29us/step - loss: 0.5010 - acc: 0.8332 - val_loss: 0.6649 - val_acc: 0.7410\n",
      "Epoch 77/150\n",
      "7500/7500 [==============================] - 0s 31us/step - loss: 0.4970 - acc: 0.8327 - val_loss: 0.6672 - val_acc: 0.7400\n",
      "Epoch 78/150\n",
      "7500/7500 [==============================] - 0s 30us/step - loss: 0.4927 - acc: 0.8347 - val_loss: 0.6661 - val_acc: 0.7360\n",
      "Epoch 79/150\n",
      "7500/7500 [==============================] - 0s 29us/step - loss: 0.4885 - acc: 0.8377 - val_loss: 0.6708 - val_acc: 0.7430\n",
      "Epoch 80/150\n",
      "7500/7500 [==============================] - 0s 29us/step - loss: 0.4845 - acc: 0.8403 - val_loss: 0.6611 - val_acc: 0.7410\n",
      "Epoch 81/150\n",
      "7500/7500 [==============================] - 0s 30us/step - loss: 0.4799 - acc: 0.8431 - val_loss: 0.6614 - val_acc: 0.7470\n",
      "Epoch 82/150\n",
      "7500/7500 [==============================] - 0s 31us/step - loss: 0.4762 - acc: 0.8424 - val_loss: 0.6596 - val_acc: 0.7420\n",
      "Epoch 83/150\n",
      "7500/7500 [==============================] - 0s 30us/step - loss: 0.4722 - acc: 0.8444 - val_loss: 0.6578 - val_acc: 0.7450\n",
      "Epoch 84/150\n",
      "7500/7500 [==============================] - 0s 29us/step - loss: 0.4691 - acc: 0.8453 - val_loss: 0.6591 - val_acc: 0.7450\n",
      "Epoch 85/150\n",
      "7500/7500 [==============================] - 0s 29us/step - loss: 0.4645 - acc: 0.8475 - val_loss: 0.6593 - val_acc: 0.7410\n",
      "Epoch 86/150\n",
      "7500/7500 [==============================] - 0s 29us/step - loss: 0.4607 - acc: 0.8489 - val_loss: 0.6605 - val_acc: 0.7410\n",
      "Epoch 87/150\n",
      "7500/7500 [==============================] - 0s 31us/step - loss: 0.4566 - acc: 0.8523 - val_loss: 0.6575 - val_acc: 0.7490\n",
      "Epoch 88/150\n",
      "7500/7500 [==============================] - 0s 31us/step - loss: 0.4530 - acc: 0.8521 - val_loss: 0.6569 - val_acc: 0.7450\n",
      "Epoch 89/150\n",
      "7500/7500 [==============================] - 0s 30us/step - loss: 0.4498 - acc: 0.8521 - val_loss: 0.6649 - val_acc: 0.7400\n",
      "Epoch 90/150\n",
      "7500/7500 [==============================] - 0s 29us/step - loss: 0.4460 - acc: 0.8555 - val_loss: 0.6576 - val_acc: 0.7460\n",
      "Epoch 91/150\n",
      "7500/7500 [==============================] - 0s 30us/step - loss: 0.4423 - acc: 0.8551 - val_loss: 0.6578 - val_acc: 0.7450\n",
      "Epoch 92/150\n",
      "7500/7500 [==============================] - 0s 30us/step - loss: 0.4382 - acc: 0.8585 - val_loss: 0.6646 - val_acc: 0.7400\n",
      "Epoch 93/150\n",
      "7500/7500 [==============================] - 0s 31us/step - loss: 0.4348 - acc: 0.8577 - val_loss: 0.6650 - val_acc: 0.7390\n",
      "Epoch 94/150\n",
      "7500/7500 [==============================] - 0s 29us/step - loss: 0.4319 - acc: 0.8599 - val_loss: 0.6583 - val_acc: 0.7450\n",
      "Epoch 95/150\n",
      "7500/7500 [==============================] - 0s 29us/step - loss: 0.4279 - acc: 0.8613 - val_loss: 0.6564 - val_acc: 0.7500\n",
      "Epoch 96/150\n",
      "7500/7500 [==============================] - 0s 29us/step - loss: 0.4249 - acc: 0.8635 - val_loss: 0.6564 - val_acc: 0.7530\n",
      "Epoch 97/150\n",
      "7500/7500 [==============================] - 0s 30us/step - loss: 0.4208 - acc: 0.8644 - val_loss: 0.6597 - val_acc: 0.7530\n",
      "Epoch 98/150\n",
      "7500/7500 [==============================] - 0s 32us/step - loss: 0.4182 - acc: 0.8663 - val_loss: 0.6539 - val_acc: 0.7510\n",
      "Epoch 99/150\n",
      "7500/7500 [==============================] - 0s 29us/step - loss: 0.4148 - acc: 0.8683 - val_loss: 0.6565 - val_acc: 0.7490\n",
      "Epoch 100/150\n",
      "7500/7500 [==============================] - 0s 29us/step - loss: 0.4115 - acc: 0.8676 - val_loss: 0.6558 - val_acc: 0.7470\n",
      "Epoch 101/150\n",
      "7500/7500 [==============================] - 0s 29us/step - loss: 0.4080 - acc: 0.8691 - val_loss: 0.6542 - val_acc: 0.7490\n",
      "Epoch 102/150\n",
      "7500/7500 [==============================] - 0s 30us/step - loss: 0.4047 - acc: 0.8719 - val_loss: 0.6612 - val_acc: 0.7470\n",
      "Epoch 103/150\n",
      "7500/7500 [==============================] - 0s 34us/step - loss: 0.4016 - acc: 0.8731 - val_loss: 0.6579 - val_acc: 0.7430\n",
      "Epoch 104/150\n",
      "7500/7500 [==============================] - 0s 29us/step - loss: 0.3985 - acc: 0.8743 - val_loss: 0.6583 - val_acc: 0.7510\n",
      "Epoch 105/150\n",
      "7500/7500 [==============================] - 0s 29us/step - loss: 0.3957 - acc: 0.8745 - val_loss: 0.6559 - val_acc: 0.7500\n",
      "Epoch 106/150\n",
      "7500/7500 [==============================] - 0s 29us/step - loss: 0.3928 - acc: 0.8768 - val_loss: 0.6645 - val_acc: 0.7470\n",
      "Epoch 107/150\n",
      "7500/7500 [==============================] - 0s 29us/step - loss: 0.3896 - acc: 0.8759 - val_loss: 0.6551 - val_acc: 0.7510\n",
      "Epoch 108/150\n",
      "7500/7500 [==============================] - 0s 31us/step - loss: 0.3865 - acc: 0.8785 - val_loss: 0.6605 - val_acc: 0.7500\n",
      "Epoch 109/150\n",
      "7500/7500 [==============================] - 0s 29us/step - loss: 0.3834 - acc: 0.8791 - val_loss: 0.6592 - val_acc: 0.7500\n",
      "Epoch 110/150\n",
      "7500/7500 [==============================] - 0s 29us/step - loss: 0.3805 - acc: 0.8815 - val_loss: 0.6579 - val_acc: 0.7500\n",
      "Epoch 111/150\n",
      "7500/7500 [==============================] - 0s 29us/step - loss: 0.3777 - acc: 0.8824 - val_loss: 0.6580 - val_acc: 0.7520\n",
      "Epoch 112/150\n",
      "7500/7500 [==============================] - 0s 29us/step - loss: 0.3748 - acc: 0.8837 - val_loss: 0.6601 - val_acc: 0.7520\n",
      "Epoch 113/150\n",
      "7500/7500 [==============================] - 0s 33us/step - loss: 0.3716 - acc: 0.8837 - val_loss: 0.6593 - val_acc: 0.7520\n",
      "Epoch 114/150\n",
      "7500/7500 [==============================] - 0s 30us/step - loss: 0.3688 - acc: 0.8861 - val_loss: 0.6608 - val_acc: 0.7540\n",
      "Epoch 115/150\n",
      "7500/7500 [==============================] - 0s 30us/step - loss: 0.3665 - acc: 0.8867 - val_loss: 0.6753 - val_acc: 0.7380\n",
      "Epoch 116/150\n",
      "7500/7500 [==============================] - 0s 29us/step - loss: 0.3636 - acc: 0.8871 - val_loss: 0.6615 - val_acc: 0.7520\n",
      "Epoch 117/150\n",
      "7500/7500 [==============================] - 0s 31us/step - loss: 0.3603 - acc: 0.8877 - val_loss: 0.6657 - val_acc: 0.7480\n",
      "Epoch 118/150\n",
      "7500/7500 [==============================] - 0s 35us/step - loss: 0.3575 - acc: 0.8915 - val_loss: 0.6682 - val_acc: 0.7460\n",
      "Epoch 119/150\n",
      "7500/7500 [==============================] - 0s 29us/step - loss: 0.3552 - acc: 0.8907 - val_loss: 0.6681 - val_acc: 0.7540\n"
     ]
    },
    {
     "name": "stdout",
     "output_type": "stream",
     "text": [
      "Epoch 120/150\n",
      "7500/7500 [==============================] - 0s 31us/step - loss: 0.3524 - acc: 0.8912 - val_loss: 0.6612 - val_acc: 0.7530\n",
      "Epoch 121/150\n",
      "7500/7500 [==============================] - 0s 30us/step - loss: 0.3497 - acc: 0.8933 - val_loss: 0.6652 - val_acc: 0.7530\n",
      "Epoch 122/150\n",
      "7500/7500 [==============================] - 0s 30us/step - loss: 0.3466 - acc: 0.8932 - val_loss: 0.6676 - val_acc: 0.7520\n",
      "Epoch 123/150\n",
      "7500/7500 [==============================] - 0s 32us/step - loss: 0.3446 - acc: 0.8935 - val_loss: 0.6674 - val_acc: 0.7530\n",
      "Epoch 124/150\n",
      "7500/7500 [==============================] - 0s 30us/step - loss: 0.3418 - acc: 0.8953 - val_loss: 0.6724 - val_acc: 0.7460\n",
      "Epoch 125/150\n",
      "7500/7500 [==============================] - 0s 30us/step - loss: 0.3393 - acc: 0.8977 - val_loss: 0.6709 - val_acc: 0.7530\n",
      "Epoch 126/150\n",
      "7500/7500 [==============================] - 0s 31us/step - loss: 0.3368 - acc: 0.8976 - val_loss: 0.6644 - val_acc: 0.7530\n",
      "Epoch 127/150\n",
      "7500/7500 [==============================] - 0s 30us/step - loss: 0.3340 - acc: 0.8993 - val_loss: 0.6663 - val_acc: 0.7510\n",
      "Epoch 128/150\n",
      "7500/7500 [==============================] - 0s 33us/step - loss: 0.3317 - acc: 0.8993 - val_loss: 0.6711 - val_acc: 0.7530\n",
      "Epoch 129/150\n",
      "7500/7500 [==============================] - 0s 34us/step - loss: 0.3295 - acc: 0.9015 - val_loss: 0.6672 - val_acc: 0.7530\n",
      "Epoch 130/150\n",
      "7500/7500 [==============================] - 0s 29us/step - loss: 0.3269 - acc: 0.9021 - val_loss: 0.6691 - val_acc: 0.7530\n",
      "Epoch 131/150\n",
      "7500/7500 [==============================] - 0s 30us/step - loss: 0.3241 - acc: 0.9036 - val_loss: 0.6725 - val_acc: 0.7540\n",
      "Epoch 132/150\n",
      "7500/7500 [==============================] - 0s 30us/step - loss: 0.3218 - acc: 0.9028 - val_loss: 0.6789 - val_acc: 0.7500\n",
      "Epoch 133/150\n",
      "7500/7500 [==============================] - 0s 33us/step - loss: 0.3196 - acc: 0.9048 - val_loss: 0.6698 - val_acc: 0.7570\n",
      "Epoch 134/150\n",
      "7500/7500 [==============================] - 0s 30us/step - loss: 0.3170 - acc: 0.9047 - val_loss: 0.6865 - val_acc: 0.7500\n",
      "Epoch 135/150\n",
      "7500/7500 [==============================] - 0s 30us/step - loss: 0.3148 - acc: 0.9061 - val_loss: 0.6740 - val_acc: 0.7530\n",
      "Epoch 136/150\n",
      "7500/7500 [==============================] - 0s 30us/step - loss: 0.3126 - acc: 0.9057 - val_loss: 0.6744 - val_acc: 0.7550\n",
      "Epoch 137/150\n",
      "7500/7500 [==============================] - 0s 30us/step - loss: 0.3103 - acc: 0.9063 - val_loss: 0.6733 - val_acc: 0.7570\n",
      "Epoch 138/150\n",
      "7500/7500 [==============================] - 0s 33us/step - loss: 0.3077 - acc: 0.9089 - val_loss: 0.6763 - val_acc: 0.7560\n",
      "Epoch 139/150\n",
      "7500/7500 [==============================] - 0s 30us/step - loss: 0.3052 - acc: 0.9104 - val_loss: 0.6805 - val_acc: 0.7550\n",
      "Epoch 140/150\n",
      "7500/7500 [==============================] - 0s 31us/step - loss: 0.3032 - acc: 0.9105 - val_loss: 0.6770 - val_acc: 0.7550\n",
      "Epoch 141/150\n",
      "7500/7500 [==============================] - 0s 30us/step - loss: 0.3012 - acc: 0.9104 - val_loss: 0.6788 - val_acc: 0.7530\n",
      "Epoch 142/150\n",
      "7500/7500 [==============================] - 0s 31us/step - loss: 0.2989 - acc: 0.9127 - val_loss: 0.6775 - val_acc: 0.7570\n",
      "Epoch 143/150\n",
      "7500/7500 [==============================] - 0s 32us/step - loss: 0.2966 - acc: 0.9132 - val_loss: 0.6816 - val_acc: 0.7550\n",
      "Epoch 144/150\n",
      "7500/7500 [==============================] - 0s 30us/step - loss: 0.2946 - acc: 0.9145 - val_loss: 0.6882 - val_acc: 0.7540\n",
      "Epoch 145/150\n",
      "7500/7500 [==============================] - 0s 29us/step - loss: 0.2923 - acc: 0.9156 - val_loss: 0.6817 - val_acc: 0.7550\n",
      "Epoch 146/150\n",
      "7500/7500 [==============================] - 0s 30us/step - loss: 0.2903 - acc: 0.9163 - val_loss: 0.6930 - val_acc: 0.7470\n",
      "Epoch 147/150\n",
      "7500/7500 [==============================] - 0s 29us/step - loss: 0.2886 - acc: 0.9165 - val_loss: 0.6820 - val_acc: 0.7530\n",
      "Epoch 148/150\n",
      "7500/7500 [==============================] - 0s 33us/step - loss: 0.2867 - acc: 0.9189 - val_loss: 0.6831 - val_acc: 0.7510\n",
      "Epoch 149/150\n",
      "7500/7500 [==============================] - 0s 29us/step - loss: 0.2843 - acc: 0.9179 - val_loss: 0.6912 - val_acc: 0.7520\n",
      "Epoch 150/150\n",
      "7500/7500 [==============================] - 0s 30us/step - loss: 0.2821 - acc: 0.9197 - val_loss: 0.6851 - val_acc: 0.7510\n"
     ]
    }
   ],
   "source": [
    "# Train the model\n",
    "baseline_model_val = baseline_model.fit(X_train_tokens, y_train_lb, \n",
    "                                        epochs=150, batch_size=256,\n",
    "                                       validation_data=(X_val_tokens, \n",
    "                                                        y_val_lb))"
   ]
  },
  {
   "cell_type": "markdown",
   "metadata": {},
   "source": [
    "### Model Performance\n",
    "\n",
    "The attribute `.history` (stored as a dictionary) contains four entries now: one per metric that was being monitored during training and validation. Print the keys of this dictionary for confirmation: "
   ]
  },
  {
   "cell_type": "code",
   "execution_count": 12,
   "metadata": {
    "ExecuteTime": {
     "end_time": "2020-09-09T22:20:54.592130Z",
     "start_time": "2020-09-09T22:20:54.587133Z"
    }
   },
   "outputs": [
    {
     "data": {
      "text/plain": [
       "dict_keys(['val_loss', 'val_acc', 'loss', 'acc'])"
      ]
     },
     "execution_count": 12,
     "metadata": {},
     "output_type": "execute_result"
    }
   ],
   "source": [
    "# Access the history attribute and store the dictionary\n",
    "baseline_model_val_dict = baseline_model_val.history\n",
    "\n",
    "# Print the keys\n",
    "baseline_model_val_dict.keys()"
   ]
  },
  {
   "cell_type": "markdown",
   "metadata": {},
   "source": [
    "Evaluate this model on the training data: "
   ]
  },
  {
   "cell_type": "code",
   "execution_count": 13,
   "metadata": {
    "ExecuteTime": {
     "end_time": "2020-09-09T22:22:11.415863Z",
     "start_time": "2020-09-09T22:22:11.188994Z"
    }
   },
   "outputs": [
    {
     "name": "stdout",
     "output_type": "stream",
     "text": [
      "7500/7500 [==============================] - 0s 29us/step\n",
      "----------\n",
      "Training Loss: 0.279 \n",
      "Training Accuracy: 0.92\n"
     ]
    }
   ],
   "source": [
    "results_train = baseline_model.evaluate(X_train_tokens, y_train_lb)\n",
    "print('----------')\n",
    "print(f'Training Loss: {results_train[0]:.3} \\nTraining Accuracy: {results_train[1]:.3}')"
   ]
  },
  {
   "cell_type": "markdown",
   "metadata": {},
   "source": [
    "Evaluate this model on the test data: "
   ]
  },
  {
   "cell_type": "code",
   "execution_count": 14,
   "metadata": {
    "ExecuteTime": {
     "end_time": "2020-09-09T22:22:58.884873Z",
     "start_time": "2020-09-09T22:22:58.827893Z"
    }
   },
   "outputs": [
    {
     "name": "stdout",
     "output_type": "stream",
     "text": [
      "1500/1500 [==============================] - 0s 35us/step\n",
      "----------\n",
      "Test Loss: 0.614 \n",
      "Test Accuracy: 0.787\n"
     ]
    }
   ],
   "source": [
    "results_test = baseline_model.evaluate(X_test_tokens, y_test_lb)\n",
    "print('----------')\n",
    "print(f'Test Loss: {results_test[0]:.3} \\nTest Accuracy: {results_test[1]:.3}')"
   ]
  },
  {
   "cell_type": "markdown",
   "metadata": {},
   "source": [
    "### Plot the Results \n",
    "\n",
    "Plot the loss versus the number of epochs. Be sure to include the training and the validation loss in the same plot. "
   ]
  },
  {
   "cell_type": "code",
   "execution_count": 17,
   "metadata": {
    "ExecuteTime": {
     "end_time": "2020-09-09T22:33:36.896114Z",
     "start_time": "2020-09-09T22:33:36.722189Z"
    }
   },
   "outputs": [
    {
     "data": {
      "image/png": "[encoded data removed]",
      "text/plain": [
       "<Figure size 864x576 with 1 Axes>"
      ]
     },
     "metadata": {
      "needs_background": "light"
     },
     "output_type": "display_data"
    }
   ],
   "source": [
    "# Loss vs number of epochs with train and validation sets\n",
    "fig, ax = plt.subplots(figsize=(12, 8))\n",
    "\n",
    "loss_values = baseline_model_val_dict['loss']\n",
    "val_loss_values = baseline_model_val_dict['val_loss']\n",
    "\n",
    "epochs = range(1, len(loss_values)+1)\n",
    "ax.plot(epochs, loss_values, label='Training Loss')\n",
    "ax.plot(epochs, val_loss_values, label='Validation Loss')\n",
    "ax.set_title('Training v. Validation Loss')\n",
    "ax.set_xlabel('Epochs')\n",
    "ax.set_ylabel('Loss')\n",
    "ax.legend();"
   ]
  },
  {
   "cell_type": "markdown",
   "metadata": {},
   "source": [
    "Create a second plot comparing training and validation accuracy to the number of epochs. "
   ]
  },
  {
   "cell_type": "code",
   "execution_count": 19,
   "metadata": {
    "ExecuteTime": {
     "end_time": "2020-09-09T22:36:10.087311Z",
     "start_time": "2020-09-09T22:36:09.905416Z"
    }
   },
   "outputs": [
    {
     "data": {
      "image/png": "[encoded data removed]",
      "text/plain": [
       "<Figure size 864x576 with 1 Axes>"
      ]
     },
     "metadata": {
      "needs_background": "light"
     },
     "output_type": "display_data"
    }
   ],
   "source": [
    "# Accuracy vs number of epochs with train and validation sets\n",
    "fig, ax = plt.subplots(figsize=(12, 8))\n",
    "\n",
    "acc_values = baseline_model_val_dict['acc']\n",
    "val_acc_values = baseline_model_val_dict['val_acc']\n",
    "\n",
    "epochs = range(1, len(acc_values)+1)\n",
    "ax.plot(epochs, acc_values, label='Training Accuracy')\n",
    "ax.plot(epochs, val_acc_values, label='Validation Accuracy')\n",
    "ax.set_title('Training v. Validation Accuracy')\n",
    "ax.set_xlabel('Epochs')\n",
    "ax.set_ylabel('Accuracy')\n",
    "ax.legend();"
   ]
  },
  {
   "cell_type": "markdown",
   "metadata": {},
   "source": [
    "Did you notice an interesting pattern here? Although the training accuracy keeps increasing when going through more epochs, and the training loss keeps decreasing, the validation accuracy and loss don't necessarily do the same. After a certain point, validation accuracy keeps swinging, which means that you're probably **overfitting** the model to the training data when you train for many epochs past a certain dropoff point. Let's tackle this now. You will now specify an early stopping point when training your model. \n",
    "\n",
    "\n",
    "## Early Stopping\n",
    "\n",
    "Overfitting neural networks is something you **_want_** to avoid at all costs. However, it's not possible to know in advance how many *epochs* you need to train your model on, and running the model multiple times with varying number of *epochs* maybe helpful, but is a time-consuming process. \n",
    "\n",
    "We've defined a model with the same architecture as above. This time specify an early stopping point when training the model. "
   ]
  },
  {
   "cell_type": "code",
   "execution_count": 20,
   "metadata": {
    "ExecuteTime": {
     "end_time": "2020-09-09T22:39:45.831032Z",
     "start_time": "2020-09-09T22:39:45.778036Z"
    }
   },
   "outputs": [],
   "source": [
    "random.seed(123)\n",
    "model_2 = models.Sequential()\n",
    "model_2.add(layers.Dense(50, activation='relu', input_shape=(2000,)))\n",
    "model_2.add(layers.Dense(25, activation='relu'))\n",
    "model_2.add(layers.Dense(7, activation='softmax'))\n",
    "\n",
    "model_2.compile(optimizer='SGD', \n",
    "                loss='categorical_crossentropy', \n",
    "                metrics=['accuracy'])"
   ]
  },
  {
   "cell_type": "markdown",
   "metadata": {},
   "source": [
    "- Import `EarlyStopping` and `ModelCheckpoint` from `keras.callbacks` \n",
    "- Define a list, `early_stopping`: \n",
    "  - Monitor `'val_loss'` and continue training for 10 epochs before stopping \n",
    "  - Save the best model while monitoring `'val_loss'` \n",
    " \n",
    "> If you need help, consult [documentation](https://keras.io/callbacks/).   "
   ]
  },
  {
   "cell_type": "code",
   "execution_count": 21,
   "metadata": {
    "ExecuteTime": {
     "end_time": "2020-09-09T22:45:56.862812Z",
     "start_time": "2020-09-09T22:45:56.857815Z"
    }
   },
   "outputs": [],
   "source": [
    "# Import EarlyStopping and ModelCheckpoint\n",
    "from keras.callbacks import EarlyStopping, ModelCheckpoint\n",
    "\n",
    "# Define the callbacks\n",
    "early_stopping = [EarlyStopping(monitor='val_loss', patience=10),\n",
    "                  ModelCheckpoint(filepath='best_model.h5', \n",
    "                                  monitor='val_loss',\n",
    "                                 save_best_only=True)]"
   ]
  },
  {
   "cell_type": "markdown",
   "metadata": {},
   "source": [
    "Train `model_2`. Make sure you set the `callbacks` argument to `early_stopping`. "
   ]
  },
  {
   "cell_type": "code",
   "execution_count": 23,
   "metadata": {
    "ExecuteTime": {
     "end_time": "2020-09-09T22:50:12.753084Z",
     "start_time": "2020-09-09T22:49:40.552895Z"
    }
   },
   "outputs": [
    {
     "name": "stdout",
     "output_type": "stream",
     "text": [
      "Train on 7500 samples, validate on 1000 samples\n",
      "Epoch 1/150\n",
      "7500/7500 [==============================] - 0s 45us/step - loss: 1.9357 - acc: 0.1664 - val_loss: 1.9289 - val_acc: 0.1840\n",
      "Epoch 2/150\n",
      "7500/7500 [==============================] - 0s 29us/step - loss: 1.9209 - acc: 0.1827 - val_loss: 1.9140 - val_acc: 0.1960\n",
      "Epoch 3/150\n",
      "7500/7500 [==============================] - 0s 32us/step - loss: 1.9048 - acc: 0.2013 - val_loss: 1.8983 - val_acc: 0.2190\n",
      "Epoch 4/150\n",
      "7500/7500 [==============================] - 0s 30us/step - loss: 1.8877 - acc: 0.2264 - val_loss: 1.8824 - val_acc: 0.2380\n",
      "Epoch 5/150\n",
      "7500/7500 [==============================] - 0s 32us/step - loss: 1.8701 - acc: 0.2524 - val_loss: 1.8664 - val_acc: 0.2590\n",
      "Epoch 6/150\n",
      "7500/7500 [==============================] - 0s 31us/step - loss: 1.8514 - acc: 0.2775 - val_loss: 1.8496 - val_acc: 0.2760\n",
      "Epoch 7/150\n",
      "7500/7500 [==============================] - 0s 31us/step - loss: 1.8312 - acc: 0.3033 - val_loss: 1.8306 - val_acc: 0.2890\n",
      "Epoch 8/150\n",
      "7500/7500 [==============================] - 0s 30us/step - loss: 1.8092 - acc: 0.3236 - val_loss: 1.8093 - val_acc: 0.3120\n",
      "Epoch 9/150\n",
      "7500/7500 [==============================] - 0s 31us/step - loss: 1.7847 - acc: 0.3477 - val_loss: 1.7852 - val_acc: 0.3400\n",
      "Epoch 10/150\n",
      "7500/7500 [==============================] - 0s 34us/step - loss: 1.7572 - acc: 0.3780 - val_loss: 1.7575 - val_acc: 0.3680\n",
      "Epoch 11/150\n",
      "7500/7500 [==============================] - 0s 30us/step - loss: 1.7267 - acc: 0.4143 - val_loss: 1.7273 - val_acc: 0.3930\n",
      "Epoch 12/150\n",
      "7500/7500 [==============================] - 0s 30us/step - loss: 1.6926 - acc: 0.4405 - val_loss: 1.6935 - val_acc: 0.4220\n",
      "Epoch 13/150\n",
      "7500/7500 [==============================] - 0s 32us/step - loss: 1.6556 - acc: 0.4645 - val_loss: 1.6562 - val_acc: 0.4500\n",
      "Epoch 14/150\n",
      "7500/7500 [==============================] - 0s 32us/step - loss: 1.6160 - acc: 0.4885 - val_loss: 1.6157 - val_acc: 0.4770\n",
      "Epoch 15/150\n",
      "7500/7500 [==============================] - 0s 30us/step - loss: 1.5741 - acc: 0.5081 - val_loss: 1.5737 - val_acc: 0.4910\n",
      "Epoch 16/150\n",
      "7500/7500 [==============================] - 0s 36us/step - loss: 1.5304 - acc: 0.5279 - val_loss: 1.5290 - val_acc: 0.5110\n",
      "Epoch 17/150\n",
      "7500/7500 [==============================] - 0s 31us/step - loss: 1.4853 - acc: 0.5461 - val_loss: 1.4843 - val_acc: 0.5270\n",
      "Epoch 18/150\n",
      "7500/7500 [==============================] - 0s 32us/step - loss: 1.4391 - acc: 0.5633 - val_loss: 1.4372 - val_acc: 0.5430\n",
      "Epoch 19/150\n",
      "7500/7500 [==============================] - 0s 30us/step - loss: 1.3928 - acc: 0.5861 - val_loss: 1.3923 - val_acc: 0.5560\n",
      "Epoch 20/150\n",
      "7500/7500 [==============================] - 0s 35us/step - loss: 1.3466 - acc: 0.5992 - val_loss: 1.3480 - val_acc: 0.5640\n",
      "Epoch 21/150\n",
      "7500/7500 [==============================] - 0s 36us/step - loss: 1.3012 - acc: 0.6113 - val_loss: 1.3018 - val_acc: 0.5780\n",
      "Epoch 22/150\n",
      "7500/7500 [==============================] - 0s 34us/step - loss: 1.2572 - acc: 0.6256 - val_loss: 1.2597 - val_acc: 0.5880\n",
      "Epoch 23/150\n",
      "7500/7500 [==============================] - 0s 30us/step - loss: 1.2150 - acc: 0.6381 - val_loss: 1.2189 - val_acc: 0.5990\n",
      "Epoch 24/150\n",
      "7500/7500 [==============================] - 0s 32us/step - loss: 1.1746 - acc: 0.6495 - val_loss: 1.1837 - val_acc: 0.6030\n",
      "Epoch 25/150\n",
      "7500/7500 [==============================] - 0s 29us/step - loss: 1.1365 - acc: 0.6567 - val_loss: 1.1454 - val_acc: 0.6240\n",
      "Epoch 26/150\n",
      "7500/7500 [==============================] - 0s 30us/step - loss: 1.1002 - acc: 0.6671 - val_loss: 1.1101 - val_acc: 0.6320\n",
      "Epoch 27/150\n",
      "7500/7500 [==============================] - 0s 30us/step - loss: 1.0659 - acc: 0.6756 - val_loss: 1.0790 - val_acc: 0.6430\n",
      "Epoch 28/150\n",
      "7500/7500 [==============================] - 0s 36us/step - loss: 1.0340 - acc: 0.6817 - val_loss: 1.0493 - val_acc: 0.6460\n",
      "Epoch 29/150\n",
      "7500/7500 [==============================] - 0s 30us/step - loss: 1.0043 - acc: 0.6873 - val_loss: 1.0199 - val_acc: 0.6590\n",
      "Epoch 30/150\n",
      "7500/7500 [==============================] - 0s 30us/step - loss: 0.9762 - acc: 0.6941 - val_loss: 0.9954 - val_acc: 0.6610\n",
      "Epoch 31/150\n",
      "7500/7500 [==============================] - 0s 30us/step - loss: 0.9504 - acc: 0.6999 - val_loss: 0.9713 - val_acc: 0.6730\n",
      "Epoch 32/150\n",
      "7500/7500 [==============================] - 0s 33us/step - loss: 0.9258 - acc: 0.7060 - val_loss: 0.9502 - val_acc: 0.6660\n",
      "Epoch 33/150\n",
      "7500/7500 [==============================] - 0s 33us/step - loss: 0.9035 - acc: 0.7108 - val_loss: 0.9294 - val_acc: 0.6780\n",
      "Epoch 34/150\n",
      "7500/7500 [==============================] - 0s 30us/step - loss: 0.8823 - acc: 0.7149 - val_loss: 0.9115 - val_acc: 0.6780\n",
      "Epoch 35/150\n",
      "7500/7500 [==============================] - 0s 30us/step - loss: 0.8630 - acc: 0.7185 - val_loss: 0.8960 - val_acc: 0.6920\n",
      "Epoch 36/150\n",
      "7500/7500 [==============================] - 0s 35us/step - loss: 0.8448 - acc: 0.7233 - val_loss: 0.8781 - val_acc: 0.6880\n",
      "Epoch 37/150\n",
      "7500/7500 [==============================] - 0s 31us/step - loss: 0.8275 - acc: 0.7281 - val_loss: 0.8625 - val_acc: 0.6960\n",
      "Epoch 38/150\n",
      "7500/7500 [==============================] - 0s 30us/step - loss: 0.8119 - acc: 0.7308 - val_loss: 0.8493 - val_acc: 0.6930\n",
      "Epoch 39/150\n",
      "7500/7500 [==============================] - 0s 30us/step - loss: 0.7969 - acc: 0.7320 - val_loss: 0.8369 - val_acc: 0.6960\n",
      "Epoch 40/150\n",
      "7500/7500 [==============================] - 0s 34us/step - loss: 0.7828 - acc: 0.7363 - val_loss: 0.8245 - val_acc: 0.7050\n",
      "Epoch 41/150\n",
      "7500/7500 [==============================] - 0s 30us/step - loss: 0.7694 - acc: 0.7397 - val_loss: 0.8143 - val_acc: 0.7030\n",
      "Epoch 42/150\n",
      "7500/7500 [==============================] - 0s 31us/step - loss: 0.7569 - acc: 0.7452 - val_loss: 0.8089 - val_acc: 0.7040\n",
      "Epoch 43/150\n",
      "7500/7500 [==============================] - 0s 29us/step - loss: 0.7451 - acc: 0.7503 - val_loss: 0.7953 - val_acc: 0.7120\n",
      "Epoch 44/150\n",
      "7500/7500 [==============================] - 0s 33us/step - loss: 0.7337 - acc: 0.7536 - val_loss: 0.7865 - val_acc: 0.7150\n",
      "Epoch 45/150\n",
      "7500/7500 [==============================] - 0s 30us/step - loss: 0.7230 - acc: 0.7551 - val_loss: 0.7785 - val_acc: 0.7160\n",
      "Epoch 46/150\n",
      "7500/7500 [==============================] - 0s 36us/step - loss: 0.7133 - acc: 0.7572 - val_loss: 0.7722 - val_acc: 0.7110\n",
      "Epoch 47/150\n",
      "7500/7500 [==============================] - 0s 31us/step - loss: 0.7035 - acc: 0.7588 - val_loss: 0.7616 - val_acc: 0.7240\n",
      "Epoch 48/150\n",
      "7500/7500 [==============================] - 0s 30us/step - loss: 0.6941 - acc: 0.7627 - val_loss: 0.7578 - val_acc: 0.7200\n",
      "Epoch 49/150\n",
      "7500/7500 [==============================] - 0s 29us/step - loss: 0.6853 - acc: 0.7655 - val_loss: 0.7497 - val_acc: 0.7200\n",
      "Epoch 50/150\n",
      "7500/7500 [==============================] - 0s 33us/step - loss: 0.6772 - acc: 0.7657 - val_loss: 0.7436 - val_acc: 0.7220\n",
      "Epoch 51/150\n",
      "7500/7500 [==============================] - 0s 33us/step - loss: 0.6690 - acc: 0.7684 - val_loss: 0.7420 - val_acc: 0.7260\n",
      "Epoch 52/150\n",
      "7500/7500 [==============================] - 0s 30us/step - loss: 0.6612 - acc: 0.7729 - val_loss: 0.7370 - val_acc: 0.7290\n",
      "Epoch 53/150\n",
      "7500/7500 [==============================] - 0s 29us/step - loss: 0.6540 - acc: 0.7749 - val_loss: 0.7300 - val_acc: 0.7240\n",
      "Epoch 54/150\n",
      "7500/7500 [==============================] - 0s 29us/step - loss: 0.6467 - acc: 0.7749 - val_loss: 0.7230 - val_acc: 0.7300\n",
      "Epoch 55/150\n",
      "7500/7500 [==============================] - 0s 31us/step - loss: 0.6392 - acc: 0.7780 - val_loss: 0.7235 - val_acc: 0.7210\n",
      "Epoch 56/150\n",
      "7500/7500 [==============================] - 0s 30us/step - loss: 0.6328 - acc: 0.7791 - val_loss: 0.7155 - val_acc: 0.7280\n",
      "Epoch 57/150\n",
      "7500/7500 [==============================] - 0s 30us/step - loss: 0.6265 - acc: 0.7821 - val_loss: 0.7104 - val_acc: 0.7320\n",
      "Epoch 58/150\n",
      "7500/7500 [==============================] - 0s 29us/step - loss: 0.6199 - acc: 0.7837 - val_loss: 0.7077 - val_acc: 0.7370\n",
      "Epoch 59/150\n",
      "7500/7500 [==============================] - 0s 32us/step - loss: 0.6140 - acc: 0.7865 - val_loss: 0.7062 - val_acc: 0.7370\n",
      "Epoch 60/150\n"
     ]
    },
    {
     "name": "stdout",
     "output_type": "stream",
     "text": [
      "7500/7500 [==============================] - 0s 29us/step - loss: 0.6081 - acc: 0.7869 - val_loss: 0.7023 - val_acc: 0.7340\n",
      "Epoch 61/150\n",
      "7500/7500 [==============================] - 0s 29us/step - loss: 0.6021 - acc: 0.7903 - val_loss: 0.6967 - val_acc: 0.7370\n",
      "Epoch 62/150\n",
      "7500/7500 [==============================] - 0s 29us/step - loss: 0.5969 - acc: 0.7917 - val_loss: 0.6954 - val_acc: 0.7360\n",
      "Epoch 63/150\n",
      "7500/7500 [==============================] - 0s 40us/step - loss: 0.5914 - acc: 0.7953 - val_loss: 0.6907 - val_acc: 0.7400\n",
      "Epoch 64/150\n",
      "7500/7500 [==============================] - 0s 31us/step - loss: 0.5859 - acc: 0.7948 - val_loss: 0.6903 - val_acc: 0.7380\n",
      "Epoch 65/150\n",
      "7500/7500 [==============================] - 0s 37us/step - loss: 0.5810 - acc: 0.7960 - val_loss: 0.6876 - val_acc: 0.7430\n",
      "Epoch 66/150\n",
      "7500/7500 [==============================] - 0s 36us/step - loss: 0.5759 - acc: 0.8003 - val_loss: 0.6833 - val_acc: 0.7400\n",
      "Epoch 67/150\n",
      "7500/7500 [==============================] - 0s 29us/step - loss: 0.5710 - acc: 0.8019 - val_loss: 0.6804 - val_acc: 0.7440\n",
      "Epoch 68/150\n",
      "7500/7500 [==============================] - 0s 29us/step - loss: 0.5661 - acc: 0.8040 - val_loss: 0.6781 - val_acc: 0.7420\n",
      "Epoch 69/150\n",
      "7500/7500 [==============================] - 0s 33us/step - loss: 0.5615 - acc: 0.8044 - val_loss: 0.6798 - val_acc: 0.7410\n",
      "Epoch 70/150\n",
      "7500/7500 [==============================] - 0s 33us/step - loss: 0.5567 - acc: 0.8053 - val_loss: 0.6763 - val_acc: 0.7380\n",
      "Epoch 71/150\n",
      "7500/7500 [==============================] - 0s 29us/step - loss: 0.5523 - acc: 0.8055 - val_loss: 0.6751 - val_acc: 0.7410\n",
      "Epoch 72/150\n",
      "7500/7500 [==============================] - 0s 30us/step - loss: 0.5478 - acc: 0.8085 - val_loss: 0.6745 - val_acc: 0.7440\n",
      "Epoch 73/150\n",
      "7500/7500 [==============================] - 0s 29us/step - loss: 0.5435 - acc: 0.8091 - val_loss: 0.6744 - val_acc: 0.7380\n",
      "Epoch 74/150\n",
      "7500/7500 [==============================] - 0s 31us/step - loss: 0.5389 - acc: 0.8112 - val_loss: 0.6684 - val_acc: 0.7420\n",
      "Epoch 75/150\n",
      "7500/7500 [==============================] - 0s 30us/step - loss: 0.5349 - acc: 0.8123 - val_loss: 0.6691 - val_acc: 0.7470\n",
      "Epoch 76/150\n",
      "7500/7500 [==============================] - 0s 29us/step - loss: 0.5308 - acc: 0.8148 - val_loss: 0.6654 - val_acc: 0.7430\n",
      "Epoch 77/150\n",
      "7500/7500 [==============================] - 0s 36us/step - loss: 0.5272 - acc: 0.8175 - val_loss: 0.6625 - val_acc: 0.7510\n",
      "Epoch 78/150\n",
      "7500/7500 [==============================] - 0s 31us/step - loss: 0.5224 - acc: 0.8184 - val_loss: 0.6615 - val_acc: 0.7460\n",
      "Epoch 79/150\n",
      "7500/7500 [==============================] - 0s 29us/step - loss: 0.5184 - acc: 0.8197 - val_loss: 0.6597 - val_acc: 0.7410\n",
      "Epoch 80/150\n",
      "7500/7500 [==============================] - 0s 30us/step - loss: 0.5145 - acc: 0.8200 - val_loss: 0.6639 - val_acc: 0.7460\n",
      "Epoch 81/150\n",
      "7500/7500 [==============================] - 0s 30us/step - loss: 0.5105 - acc: 0.8232 - val_loss: 0.6650 - val_acc: 0.7460\n",
      "Epoch 82/150\n",
      "7500/7500 [==============================] - 0s 29us/step - loss: 0.5076 - acc: 0.8252 - val_loss: 0.6557 - val_acc: 0.7470\n",
      "Epoch 83/150\n",
      "7500/7500 [==============================] - 0s 31us/step - loss: 0.5034 - acc: 0.8253 - val_loss: 0.6533 - val_acc: 0.7480\n",
      "Epoch 84/150\n",
      "7500/7500 [==============================] - 0s 29us/step - loss: 0.4999 - acc: 0.8260 - val_loss: 0.6534 - val_acc: 0.7460\n",
      "Epoch 85/150\n",
      "7500/7500 [==============================] - 0s 30us/step - loss: 0.4958 - acc: 0.8284 - val_loss: 0.6551 - val_acc: 0.7460\n",
      "Epoch 86/150\n",
      "7500/7500 [==============================] - 0s 35us/step - loss: 0.4920 - acc: 0.8299 - val_loss: 0.6545 - val_acc: 0.7440\n",
      "Epoch 87/150\n",
      "7500/7500 [==============================] - 0s 33us/step - loss: 0.4886 - acc: 0.8297 - val_loss: 0.6509 - val_acc: 0.7470\n",
      "Epoch 88/150\n",
      "7500/7500 [==============================] - 0s 34us/step - loss: 0.4851 - acc: 0.8328 - val_loss: 0.6503 - val_acc: 0.7480\n",
      "Epoch 89/150\n",
      "7500/7500 [==============================] - 0s 29us/step - loss: 0.4815 - acc: 0.8345 - val_loss: 0.6494 - val_acc: 0.7450\n",
      "Epoch 90/150\n",
      "7500/7500 [==============================] - 0s 29us/step - loss: 0.4782 - acc: 0.8381 - val_loss: 0.6520 - val_acc: 0.7460\n",
      "Epoch 91/150\n",
      "7500/7500 [==============================] - 0s 32us/step - loss: 0.4751 - acc: 0.8377 - val_loss: 0.6501 - val_acc: 0.7490\n",
      "Epoch 92/150\n",
      "7500/7500 [==============================] - 0s 30us/step - loss: 0.4712 - acc: 0.8392 - val_loss: 0.6485 - val_acc: 0.7500\n",
      "Epoch 93/150\n",
      "7500/7500 [==============================] - 0s 29us/step - loss: 0.4678 - acc: 0.8393 - val_loss: 0.6503 - val_acc: 0.7480\n",
      "Epoch 94/150\n",
      "7500/7500 [==============================] - 0s 30us/step - loss: 0.4647 - acc: 0.8431 - val_loss: 0.6479 - val_acc: 0.7470\n",
      "Epoch 95/150\n",
      "7500/7500 [==============================] - 0s 33us/step - loss: 0.4615 - acc: 0.8449 - val_loss: 0.6495 - val_acc: 0.7470\n",
      "Epoch 96/150\n",
      "7500/7500 [==============================] - 0s 30us/step - loss: 0.4580 - acc: 0.8452 - val_loss: 0.6457 - val_acc: 0.7450\n",
      "Epoch 97/150\n",
      "7500/7500 [==============================] - 0s 30us/step - loss: 0.4548 - acc: 0.8463 - val_loss: 0.6502 - val_acc: 0.7480\n",
      "Epoch 98/150\n",
      "7500/7500 [==============================] - 0s 29us/step - loss: 0.4516 - acc: 0.8467 - val_loss: 0.6504 - val_acc: 0.7520\n",
      "Epoch 99/150\n",
      "7500/7500 [==============================] - 0s 30us/step - loss: 0.4486 - acc: 0.8485 - val_loss: 0.6439 - val_acc: 0.7450\n",
      "Epoch 100/150\n",
      "7500/7500 [==============================] - 0s 30us/step - loss: 0.4453 - acc: 0.8505 - val_loss: 0.6418 - val_acc: 0.7490\n",
      "Epoch 101/150\n",
      "7500/7500 [==============================] - 0s 30us/step - loss: 0.4423 - acc: 0.8527 - val_loss: 0.6446 - val_acc: 0.7490\n",
      "Epoch 102/150\n",
      "7500/7500 [==============================] - 0s 30us/step - loss: 0.4397 - acc: 0.8525 - val_loss: 0.6456 - val_acc: 0.7470\n",
      "Epoch 103/150\n",
      "7500/7500 [==============================] - 0s 29us/step - loss: 0.4362 - acc: 0.8537 - val_loss: 0.6470 - val_acc: 0.7430\n",
      "Epoch 104/150\n",
      "7500/7500 [==============================] - 0s 32us/step - loss: 0.4333 - acc: 0.8540 - val_loss: 0.6457 - val_acc: 0.7500\n",
      "Epoch 105/150\n",
      "7500/7500 [==============================] - 0s 30us/step - loss: 0.4302 - acc: 0.8573 - val_loss: 0.6436 - val_acc: 0.7480\n",
      "Epoch 106/150\n",
      "7500/7500 [==============================] - 0s 29us/step - loss: 0.4275 - acc: 0.8559 - val_loss: 0.6432 - val_acc: 0.7450\n",
      "Epoch 107/150\n",
      "7500/7500 [==============================] - 0s 30us/step - loss: 0.4241 - acc: 0.8584 - val_loss: 0.6432 - val_acc: 0.7510\n",
      "Epoch 108/150\n",
      "7500/7500 [==============================] - 0s 29us/step - loss: 0.4213 - acc: 0.8587 - val_loss: 0.6475 - val_acc: 0.7490\n",
      "Epoch 109/150\n",
      "7500/7500 [==============================] - 0s 32us/step - loss: 0.4185 - acc: 0.8592 - val_loss: 0.6456 - val_acc: 0.7430\n",
      "Epoch 110/150\n",
      "7500/7500 [==============================] - 0s 30us/step - loss: 0.4154 - acc: 0.8629 - val_loss: 0.6434 - val_acc: 0.7480\n"
     ]
    }
   ],
   "source": [
    "model_2_val = model_2.fit(X_train_tokens, y_train_lb, epochs=150, \n",
    "                      callbacks=early_stopping, batch_size=256, \n",
    "                      validation_data=(X_val_tokens, y_val_lb))"
   ]
  },
  {
   "cell_type": "markdown",
   "metadata": {},
   "source": [
    "Load the best (saved) model. "
   ]
  },
  {
   "cell_type": "code",
   "execution_count": 24,
   "metadata": {
    "ExecuteTime": {
     "end_time": "2020-09-09T22:50:43.499525Z",
     "start_time": "2020-09-09T22:50:43.095804Z"
    }
   },
   "outputs": [],
   "source": [
    "# Load the best (saved) model\n",
    "from keras.models import load_model\n",
    "saved_model = load_model('best_model.h5')"
   ]
  },
  {
   "cell_type": "markdown",
   "metadata": {},
   "source": [
    "Now, use this model to to calculate the training and test accuracy: "
   ]
  },
  {
   "cell_type": "code",
   "execution_count": 25,
   "metadata": {
    "ExecuteTime": {
     "end_time": "2020-09-09T22:52:38.963541Z",
     "start_time": "2020-09-09T22:52:38.664711Z"
    }
   },
   "outputs": [
    {
     "name": "stdout",
     "output_type": "stream",
     "text": [
      "7500/7500 [==============================] - 0s 32us/step\n",
      "Training Loss: 0.443 \n",
      "Training Accuracy: 0.85\n",
      "----------\n",
      "1500/1500 [==============================] - 0s 36us/step\n",
      "Test Loss: 0.614 \n",
      "Test Accuracy: 0.762\n"
     ]
    }
   ],
   "source": [
    "results_train = saved_model.evaluate(X_train_tokens, y_train_lb)\n",
    "print(f'Training Loss: {results_train[0]:.3} \\nTraining Accuracy: {results_train[1]:.3}')\n",
    "\n",
    "print('----------')\n",
    "\n",
    "results_test = saved_model.evaluate(X_test_tokens, y_test_lb)\n",
    "print(f'Test Loss: {results_test[0]:.3} \\nTest Accuracy: {results_test[1]:.3}')"
   ]
  },
  {
   "cell_type": "markdown",
   "metadata": {},
   "source": [
    "Nicely done! Did you notice that the model didn't train for all 150 epochs? You reduced your training time. \n",
    "\n",
    "Now, take a look at how regularization techniques can further improve your model performance. \n",
    "\n",
    "## L2 Regularization \n",
    "\n",
    "First, take a look at L2 regularization. Keras makes L2 regularization easy. Simply add the `kernel_regularizer=keras.regularizers.l2(lambda_coeff)` parameter to any model layer. The `lambda_coeff` parameter determines the strength of the regularization you wish to perform. \n",
    "\n",
    "- Use 2 hidden layers with 50 units in the first and 25 in the second layer, both with `'relu'` activation functions \n",
    "- Add L2 regularization to both the hidden layers with 0.005 as the `lambda_coeff` "
   ]
  },
  {
   "cell_type": "code",
   "execution_count": null,
   "metadata": {},
   "outputs": [],
   "source": [
    "# Import regularizers\n",
    "\n",
    "random.seed(123)\n",
    "L2_model = models.Sequential()\n",
    "\n",
    "# Add the input and first hidden layer\n",
    "\n",
    "\n",
    "# Add another hidden layer\n",
    "\n",
    "\n",
    "# Add an output layer\n",
    "L2_model.add(layers.Dense(7, activation='softmax'))\n",
    "\n",
    "# Compile the model\n",
    "L2_model.compile(optimizer='SGD', \n",
    "                 loss='categorical_crossentropy', \n",
    "                 metrics=['accuracy'])\n",
    "\n",
    "# Train the model \n",
    "L2_model_val = L2_model.fit(X_train_tokens, \n",
    "                            y_train_lb, \n",
    "                            epochs=150, \n",
    "                            batch_size=256, \n",
    "                            validation_data=(X_val_tokens, y_val_lb))"
   ]
  },
  {
   "cell_type": "markdown",
   "metadata": {},
   "source": [
    "Now, look at the training as well as the validation accuracy for both the L2 and the baseline models. "
   ]
  },
  {
   "cell_type": "code",
   "execution_count": null,
   "metadata": {},
   "outputs": [],
   "source": [
    "# L2 model details\n",
    "L2_model_dict = L2_model_val.history\n",
    "L2_acc_values = L2_model_dict['acc'] \n",
    "L2_val_acc_values = L2_model_dict['val_acc']\n",
    "\n",
    "# Baseline model\n",
    "baseline_model_acc = baseline_model_val_dict['acc'] \n",
    "baseline_model_val_acc = baseline_model_val_dict['val_acc']\n",
    "\n",
    "# Plot the accuracy for these models\n",
    "fig, ax = plt.subplots(figsize=(12, 8))\n",
    "epochs = range(1, len(acc_values) + 1)\n",
    "ax.plot(epochs, L2_acc_values, label='Training acc L2')\n",
    "ax.plot(epochs, L2_val_acc_values, label='Validation acc L2')\n",
    "ax.plot(epochs, baseline_model_acc, label='Training acc')\n",
    "ax.plot(epochs, baseline_model_val_acc, label='Validation acc')\n",
    "ax.set_title('Training & validation accuracy L2 vs regular')\n",
    "ax.set_xlabel('Epochs')\n",
    "ax.set_ylabel('Loss')\n",
    "ax.legend();"
   ]
  },
  {
   "cell_type": "markdown",
   "metadata": {},
   "source": [
    "The results of L2 regularization are quite disappointing here. Notice the discrepancy between validation and training accuracy seems to have decreased slightly, but the end result is definitely not getting better.  \n",
    "\n",
    "\n",
    "## L1 Regularization\n",
    "\n",
    "Now have a look at L1 regularization. Will this work better? \n",
    "\n",
    "- Use 2 hidden layers with 50 units in the first and 25 in the second layer, both with `'relu'` activation functions \n",
    "- Add L1 regularization to both the hidden layers with 0.005 as the `lambda_coeff` "
   ]
  },
  {
   "cell_type": "code",
   "execution_count": null,
   "metadata": {},
   "outputs": [],
   "source": [
    "random.seed(123)\n",
    "L1_model = models.Sequential()\n",
    "\n",
    "# Add the input and first hidden layer\n",
    "\n",
    "\n",
    "# Add a hidden layer\n",
    "\n",
    "\n",
    "# Add an output layer\n",
    "L1_model.add(layers.Dense(7, activation='softmax'))\n",
    "\n",
    "# Compile the model\n",
    "L1_model.compile(optimizer='SGD', \n",
    "                 loss='categorical_crossentropy', \n",
    "                 metrics=['accuracy'])\n",
    "\n",
    "# Train the model \n",
    "L1_model_val = L1_model.fit(X_train_tokens, \n",
    "                            y_train_lb, \n",
    "                            epochs=150, \n",
    "                            batch_size=256, \n",
    "                            validation_data=(X_val_tokens, y_val_lb))"
   ]
  },
  {
   "cell_type": "markdown",
   "metadata": {},
   "source": [
    "Plot the training as well as the validation accuracy for the L1 model: "
   ]
  },
  {
   "cell_type": "code",
   "execution_count": null,
   "metadata": {
    "scrolled": true
   },
   "outputs": [],
   "source": [
    "fig, ax = plt.subplots(figsize=(12, 8))\n",
    "\n",
    "L1_model_dict = L1_model_val.history\n",
    "\n",
    "acc_values = L1_model_dict['acc'] \n",
    "val_acc_values = L1_model_dict['val_acc']\n",
    "\n",
    "epochs = range(1, len(acc_values) + 1)\n",
    "ax.plot(epochs, acc_values, label='Training acc L1')\n",
    "ax.plot(epochs, val_acc_values, label='Validation acc L1')\n",
    "ax.set_title('Training & validation accuracy with L1 regularization')\n",
    "ax.set_xlabel('Epochs')\n",
    "ax.set_ylabel('Loss')\n",
    "ax.legend();"
   ]
  },
  {
   "cell_type": "markdown",
   "metadata": {},
   "source": [
    "Notice how the training and validation accuracy don't diverge as much as before. Unfortunately, the validation accuracy isn't still that good. Next, experiment with dropout regularization to see if it offers any advantages. \n",
    "\n",
    "\n",
    "## Dropout Regularization \n",
    "\n",
    "It's time to try another technique: applying dropout to layers. As discussed in the earlier lesson, this involves setting a certain proportion of units in each layer to zero. In the following cell: \n",
    "\n",
    "- Apply a dropout rate of 30% to the input layer \n",
    "- Add a first hidden layer with 50 units and `'relu'` activation \n",
    "- Apply a dropout rate of 30% to the first hidden layer \n",
    "- Add a second hidden layer with 25 units and `'relu'` activation \n",
    "- Apply a dropout rate of 30% to the second hidden layer \n"
   ]
  },
  {
   "cell_type": "code",
   "execution_count": null,
   "metadata": {},
   "outputs": [],
   "source": [
    "# ⏰ This cell may take about a minute to run\n",
    "random.seed(123)\n",
    "dropout_model = models.Sequential()\n",
    "\n",
    "# Implement dropout to the input layer\n",
    "# NOTE: This is where you define the number of units in the input layer\n",
    "\n",
    "\n",
    "# Add the first hidden layer\n",
    "\n",
    "\n",
    "# Implement dropout to the first hidden layer \n",
    "\n",
    "\n",
    "# Add the second hidden layer\n",
    "\n",
    "\n",
    "# Implement dropout to the second hidden layer \n",
    "\n",
    "\n",
    "# Add the output layer\n",
    "dropout_model.add(layers.Dense(7, activation='softmax'))\n",
    "\n",
    "\n",
    "# Compile the model\n",
    "dropout_model.compile(optimizer='SGD', \n",
    "                      loss='categorical_crossentropy', \n",
    "                      metrics=['accuracy'])\n",
    "\n",
    "# Train the model\n",
    "dropout_model_val = dropout_model.fit(X_train_tokens, \n",
    "                                      y_train_lb, \n",
    "                                      epochs=150, \n",
    "                                      batch_size=256, \n",
    "                                      validation_data=(X_val_tokens, y_val_lb))"
   ]
  },
  {
   "cell_type": "code",
   "execution_count": null,
   "metadata": {
    "scrolled": true
   },
   "outputs": [],
   "source": [
    "results_train = model.evaluate(X_train_tokens, y_train_lb)\n",
    "print(f'Training Loss: {results_train[0]:.3} \\nTraining Accuracy: {results_train[1]:.3}')\n",
    "\n",
    "print('----------')\n",
    "\n",
    "results_test = model.evaluate(X_test_tokens, y_test_lb)\n",
    "print(f'Test Loss: {results_test[0]:.3} \\nTest Accuracy: {results_test[1]:.3}') "
   ]
  },
  {
   "cell_type": "markdown",
   "metadata": {},
   "source": [
    "You can see here that the validation performance has improved again, and the training and test accuracy are very close!  \n",
    "\n",
    "## Bigger Data? \n",
    "\n",
    "Finally, let's examine if we can improve the model's performance just by adding more data. We've quadrapled the sample dataset from 10,000 to 40,000 observations, and all you need to do is run the code! "
   ]
  },
  {
   "cell_type": "code",
   "execution_count": null,
   "metadata": {},
   "outputs": [],
   "source": [
    "df_bigger_sample = df.sample(40000, random_state=123)\n",
    "\n",
    "X = df['Consumer complaint narrative']\n",
    "y = df['Product']\n",
    "\n",
    "# Train-test split\n",
    "X_train_bigger, X_test_bigger, y_train_bigger, y_test_bigger = train_test_split(X, \n",
    "                                                                                y, \n",
    "                                                                                test_size=6000, \n",
    "                                                                                random_state=42)\n",
    "\n",
    "# Validation set\n",
    "X_train_final_bigger, X_val_bigger, y_train_final_bigger, y_val_bigger = train_test_split(X_train_bigger, \n",
    "                                                                                          y_train_bigger, \n",
    "                                                                                          test_size=4000, \n",
    "                                                                                          random_state=42)\n",
    "\n",
    "\n",
    "# One-hot encoding of the complaints\n",
    "tokenizer = Tokenizer(num_words=2000)\n",
    "tokenizer.fit_on_texts(X_train_final_bigger)\n",
    "\n",
    "X_train_tokens_bigger = tokenizer.texts_to_matrix(X_train_final_bigger, mode='binary')\n",
    "X_val_tokens_bigger = tokenizer.texts_to_matrix(X_val_bigger, mode='binary')\n",
    "X_test_tokens_bigger = tokenizer.texts_to_matrix(X_test_bigger, mode='binary')\n",
    "\n",
    "# One-hot encoding of products\n",
    "lb = LabelBinarizer()\n",
    "lb.fit(y_train_final_bigger)\n",
    "\n",
    "y_train_lb_bigger = to_categorical(lb.transform(y_train_final_bigger))[:, :, 1]\n",
    "y_val_lb_bigger = to_categorical(lb.transform(y_val_bigger))[:, :, 1]\n",
    "y_test_lb_bigger = to_categorical(lb.transform(y_test_bigger))[:, :, 1]"
   ]
  },
  {
   "cell_type": "code",
   "execution_count": null,
   "metadata": {},
   "outputs": [],
   "source": [
    "# ⏰ This cell may take several minutes to run\n",
    "random.seed(123)\n",
    "bigger_data_model = models.Sequential()\n",
    "bigger_data_model.add(layers.Dense(50, activation='relu', input_shape=(2000,)))\n",
    "bigger_data_model.add(layers.Dense(25, activation='relu'))\n",
    "bigger_data_model.add(layers.Dense(7, activation='softmax'))\n",
    "\n",
    "bigger_data_model.compile(optimizer='SGD', \n",
    "                          loss='categorical_crossentropy', \n",
    "                          metrics=['accuracy'])\n",
    "\n",
    "bigger_data_model_val = bigger_data_model.fit(X_train_tokens_bigger,  \n",
    "                                              y_train_lb_bigger,  \n",
    "                                              epochs=150,  \n",
    "                                              batch_size=256,  \n",
    "                                              validation_data=(X_val_tokens_bigger, y_val_lb_bigger))"
   ]
  },
  {
   "cell_type": "code",
   "execution_count": null,
   "metadata": {},
   "outputs": [],
   "source": [
    "results_train = bigger_data_model.evaluate(X_train_tokens_bigger, y_train_lb_bigger)\n",
    "print(f'Training Loss: {results_train[0]:.3} \\nTraining Accuracy: {results_train[1]:.3}')\n",
    "\n",
    "print('----------')\n",
    "\n",
    "results_test = bigger_data_model.evaluate(X_val_tokens_bigger, y_val_lb_bigger)\n",
    "print(f'Test Loss: {results_test[0]:.3} \\nTest Accuracy: {results_test[1]:.3}')"
   ]
  },
  {
   "cell_type": "markdown",
   "metadata": {},
   "source": [
    "With the same amount of epochs and no regularization technique, you were able to get both better test accuracy and loss. You can still consider early stopping, L1, L2 and dropout here. It's clear that having more data has a strong impact on model performance! \n",
    "\n",
    "\n",
    "## Additional Resources\n",
    "\n",
    "* https://github.com/susanli2016/Machine-Learning-with-Python/blob/master/Consumer_complaints.ipynb\n",
    "* https://machinelearningmastery.com/dropout-regularization-deep-learning-models-keras/\n",
    "* https://catalog.data.gov/dataset/consumer-complaint-database \n",
    "\n",
    "\n",
    "## Summary  \n",
    "\n",
    "In this lesson, you built deep learning models using a validation set and used several techniques such as L2 and L1 regularization, dropout regularization, and early stopping to improve the accuracy of your models. "
   ]
  }
 ],
 "metadata": {
  "kernelspec": {
   "display_name": "Python 3",
   "language": "python",
   "name": "python3"
  },
  "language_info": {
   "codemirror_mode": {
    "name": "ipython",
    "version": 3
   },
   "file_extension": ".py",
   "mimetype": "text/x-python",
   "name": "python",
   "nbconvert_exporter": "python",
   "pygments_lexer": "ipython3",
   "version": "3.6.9"
  },
  "toc": {
   "base_numbering": 1,
   "nav_menu": {},
   "number_sections": true,
   "sideBar": true,
   "skip_h1_title": false,
   "title_cell": "Table of Contents",
   "title_sidebar": "Contents",
   "toc_cell": false,
   "toc_position": {},
   "toc_section_display": true,
   "toc_window_display": false
  },
  "varInspector": {
   "cols": {
    "lenName": 16,
    "lenType": 16,
    "lenVar": 40
   },
   "kernels_config": {
    "python": {
     "delete_cmd_postfix": "",
     "delete_cmd_prefix": "del ",
     "library": "var_list.py",
     "varRefreshCmd": "print(var_dic_list())"
    },
    "r": {
     "delete_cmd_postfix": ") ",
     "delete_cmd_prefix": "rm(",
     "library": "var_list.r",
     "varRefreshCmd": "cat(var_dic_list()) "
    }
   },
   "types_to_exclude": [
    "module",
    "function",
    "builtin_function_or_method",
    "instance",
    "_Feature"
   ],
   "window_display": false
  }
 },
 "nbformat": 4,
 "nbformat_minor": 2
}
